{
 "cells": [
  {
   "cell_type": "markdown",
   "metadata": {},
   "source": [
    "## Hand Gesture Dataset (ASL-Dataset)\n",
    "#### In this notebook we will see how to process ASL dataset and store it as a pickle file for further use and model training. To download the ASL-Dataset please vist the following link. \n",
    "#### Download link: https://bitbucket.org/visionlab-sapienza/2018-jrl-ieee-tmm_-application-dataset/src/master/\n",
    "#### For more information about ASL-Dataset: https://ieeexplore.ieee.org/document/8410764"
   ]
  },
  {
   "cell_type": "markdown",
   "metadata": {
    "id": "FYcO28pzqZ7J"
   },
   "source": [
    "### Step 1: Import Necessary Libraries"
   ]
  },
  {
   "cell_type": "code",
   "execution_count": 1,
   "metadata": {
    "executionInfo": {
     "elapsed": 1830,
     "status": "ok",
     "timestamp": 1635451900111,
     "user": {
      "displayName": "MAFIA GAMER",
      "photoUrl": "https://lh3.googleusercontent.com/a-/AOh14Gg4hUq5ULIUoHcb-_fMyVtTvT7UzGhKKkt3uwGU=s64",
      "userId": "03087155454719935559"
     },
     "user_tz": -300
    },
    "id": "W-NTslEbun-e"
   },
   "outputs": [],
   "source": [
    "import numpy as np\n",
    "import pandas as pd\n",
    "import glob\n",
    "import pickle\n",
    "import tensorflow as tf\n",
    "from sklearn.utils import shuffle\n",
    "# tf.config.experimental.list_physical_devices()           # command to check available hardware resources"
   ]
  },
  {
   "cell_type": "markdown",
   "metadata": {},
   "source": [
    "### Step 2: Utilities"
   ]
  },
  {
   "cell_type": "markdown",
   "metadata": {
    "id": "3jxQJ-fRqIml"
   },
   "source": [
    "#### 1- loading data and labels"
   ]
  },
  {
   "cell_type": "code",
   "execution_count": 2,
   "metadata": {
    "executionInfo": {
     "elapsed": 11981,
     "status": "ok",
     "timestamp": 1635451912086,
     "user": {
      "displayName": "MAFIA GAMER",
      "photoUrl": "https://lh3.googleusercontent.com/a-/AOh14Gg4hUq5ULIUoHcb-_fMyVtTvT7UzGhKKkt3uwGU=s64",
      "userId": "03087155454719935559"
     },
     "user_tz": -300
    },
    "id": "oFDjRm9trVAW"
   },
   "outputs": [],
   "source": [
    "def get_train_data(x_train_path, y_train_path, x_test_path, y_test_path):\n",
    "    \n",
    "    '''\n",
    "    Train dataset contains 32 txt files of shape (instances, timestamps)\n",
    "    where in train data. This function will get all input files and convert \n",
    "    them to required output shape.\n",
    "    \n",
    "    Input:\n",
    "          (attributes, samples, timestamps)\n",
    "          where \n",
    "          attributes = 32, these are the number of features in one frame\n",
    "          samples = 810, total number of examples in train dataset\n",
    "          timestamps = 200, number of time instances in each sample\n",
    "    \n",
    "    Output:\n",
    "           (samples, timestamps, attributes)\n",
    "    '''  \n",
    "    l = []\n",
    "    g = []\n",
    "#----------------------------------------------------------------------\n",
    "# getting train dataset and labels\n",
    "#----------------------------------------------------------------------\n",
    "    files_train = glob.glob(x_train_path +'/*.txt')\n",
    "    for f in files_train:\n",
    "        train_data = np.loadtxt(f)\n",
    "        l.append(train_data)\n",
    "    # train data\n",
    "    x_train = np.asarray(l)\n",
    "    x_train = x_train.transpose(1, 2, 0)                 # to convert the shape of our data into output shape, as mentioned earlier\n",
    "    # train labels\n",
    "    y_train = np.loadtxt(y_train_path)\n",
    "    y_train = pd.get_dummies(y_train).values             # to get one hot encodings of train labels\n",
    "#----------------------------------------------------------------------\n",
    "# getting test dataset and labels\n",
    "#----------------------------------------------------------------------\n",
    "    files_test = glob.glob(x_test_path +'/*.txt')\n",
    "    for h in files_test:\n",
    "        test_data = np.loadtxt(h)\n",
    "        g.append(test_data)\n",
    "    # test data\n",
    "    x_test = np.asarray(g).transpose(1, 2, 0) \n",
    "    # test labels\n",
    "    y_test = np.loadtxt(y_test_path)\n",
    "    y_test = pd.get_dummies(y_test).values\n",
    "\n",
    "    return x_train, y_train, x_test, y_test"
   ]
  },
  {
   "cell_type": "markdown",
   "metadata": {},
   "source": [
    "#### 2- write data to pickle file"
   ]
  },
  {
   "cell_type": "code",
   "execution_count": 3,
   "metadata": {},
   "outputs": [],
   "source": [
    "def write_data(data, file_path): \n",
    "    with open(file_path, 'wb') as file:\n",
    "        pickle.dump(data, file)\n",
    "    print(f\"Data saved to {file_path} successfully.\")"
   ]
  },
  {
   "cell_type": "markdown",
   "metadata": {},
   "source": [
    "#### 3- load data from pickle file "
   ]
  },
  {
   "cell_type": "code",
   "execution_count": 4,
   "metadata": {},
   "outputs": [],
   "source": [
    "def load_data(path):\n",
    "    '''\n",
    "    Returns train(x_train) and test(x_test) hand gesture sequences and \n",
    "    their associated labels (y_train), (y_test) respectively\n",
    "    '''\n",
    "    file = open(path, 'rb')\n",
    "    data = pickle.load(file, encoding='latin1')  # <<---- change to 'latin1' to 'utf8' if the data does not load\n",
    "    file.close()\n",
    "    return data['x_train'], data['x_test'], data['y_train'], data['y_test']"
   ]
  },
  {
   "cell_type": "code",
   "execution_count": 5,
   "metadata": {},
   "outputs": [],
   "source": [
    "train_data_path = 'Avola/Train'\n",
    "train_label_path = 'Avola/y_train.txt'\n",
    "test_data_path = 'Avola/Test'\n",
    "test_label_path = 'Avola/y_test.txt'"
   ]
  },
  {
   "cell_type": "code",
   "execution_count": 17,
   "metadata": {},
   "outputs": [],
   "source": [
    "#----------------------------------------------------------------------\n",
    "# save dataset to pickle file\n",
    "#----------------------------------------------------------------------\n",
    "x_train, y_train, x_test, y_test = get_train_data(x_train_path=train_data_path, y_train_path=train_label_path, x_test_path=test_data_path, y_test_path=test_label_path)\n",
    "\n",
    "data = {\n",
    "    'x_train' : x_train,\n",
    "    'y_train' : y_train,\n",
    "    'x_test' : x_test,\n",
    "    'y_test' : y_test\n",
    "}\n",
    "\n",
    "file_path = 'saved_datasets_pickle/asl.pckle'\n",
    "write_data(data, file_path = file_path) "
   ]
  },
  {
   "cell_type": "code",
   "execution_count": 7,
   "metadata": {},
   "outputs": [],
   "source": [
    "#----------------------------------------------------------------------\n",
    "# load data from pickle file path\n",
    "#----------------------------------------------------------------------\n",
    "pickle_file_path = 'saved_datasets_pickle/asl.pckle'\n",
    "x_train, x_test, y_train, y_test = load_data(path=pickle_file_path)"
   ]
  },
  {
   "cell_type": "code",
   "execution_count": null,
   "metadata": {},
   "outputs": [],
   "source": []
  }
 ],
 "metadata": {
  "accelerator": "TPU",
  "colab": {
   "collapsed_sections": [],
   "name": "Concat_ API_MODEL_train_test_split.ipynb",
   "provenance": [
    {
     "file_id": "1tEQzu5qf4jSccPD0zACYpxHdCLNCrjr_",
     "timestamp": 1634925878983
    },
    {
     "file_id": "1R7K9zV4JgE1E9YU89eSxVA3f10KmT9gr",
     "timestamp": 1634839721642
    }
   ]
  },
  "kernelspec": {
   "display_name": "Python 3 (ipykernel)",
   "language": "python",
   "name": "python3"
  },
  "language_info": {
   "codemirror_mode": {
    "name": "ipython",
    "version": 3
   },
   "file_extension": ".py",
   "mimetype": "text/x-python",
   "name": "python",
   "nbconvert_exporter": "python",
   "pygments_lexer": "ipython3",
   "version": "3.9.12"
  }
 },
 "nbformat": 4,
 "nbformat_minor": 1
}
